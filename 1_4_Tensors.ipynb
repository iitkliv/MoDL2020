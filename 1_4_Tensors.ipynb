{
 "cells": [
  {
   "cell_type": "markdown",
   "metadata": {},
   "source": [
    "# MoDL 2020\n",
    "# Tutorial 4: Tensors and Tensor Operations"
   ]
  },
  {
   "cell_type": "markdown",
   "metadata": {},
   "source": [
    "## Tensor Algebra"
   ]
  },
  {
   "cell_type": "code",
   "execution_count": null,
   "metadata": {},
   "outputs": [],
   "source": [
    "!pip install tensorly\n",
    "!pip install sympy"
   ]
  },
  {
   "cell_type": "code",
   "execution_count": null,
   "metadata": {},
   "outputs": [],
   "source": [
    "import numpy as np\n",
    "import torch\n",
    "from torch import tensor\n",
    "import tensorly as tl\n",
    "from sympy import tensorproduct,Array"
   ]
  },
  {
   "cell_type": "markdown",
   "metadata": {},
   "source": [
    "### Creating a Tensor "
   ]
  },
  {
   "cell_type": "markdown",
   "metadata": {},
   "source": [
    "The python modules torch and tensorly have a number of functions that would help us carry out tensor algebra. A tensor can be represented as a multi-dimensional array as shown below."
   ]
  },
  {
   "cell_type": "code",
   "execution_count": null,
   "metadata": {},
   "outputs": [],
   "source": [
    "#vector as a tensor\n",
    "\n",
    "a = tensor([1,2])\n",
    "a"
   ]
  },
  {
   "cell_type": "code",
   "execution_count": null,
   "metadata": {},
   "outputs": [],
   "source": [
    "a.shape"
   ]
  },
  {
   "cell_type": "code",
   "execution_count": null,
   "metadata": {},
   "outputs": [],
   "source": [
    "#matrix as a tensor\n",
    "\n",
    "\"\"\"Note that a matrix can be defined as a matrix using the function Matrix from SymPy\"\"\"\n",
    "\n",
    "A = tensor([[1,2,3],[4,5,6]])\n",
    "print(\"A = {}\".format(A))\n",
    "print(\"Shape of A : {}\".format(A.shape))"
   ]
  },
  {
   "cell_type": "code",
   "execution_count": null,
   "metadata": {},
   "outputs": [],
   "source": [
    "#3D tensor\n",
    "\n",
    "T = torch.tensor([[[1,2,3,4],[5,6,7,8],[9,10,11,12]],\n",
    "           [[13,14,15,16],[17,18,19,20],[21,22,23,24]]])\n",
    "print(\"T = {}\".format(T))\n",
    "print(\"Shape of T : {}\".format(T.shape))\n",
    "\n"
   ]
  },
  {
   "cell_type": "markdown",
   "metadata": {},
   "source": [
    "Now, let's try to access some elemets and sub-tensors from T."
   ]
  },
  {
   "cell_type": "code",
   "execution_count": null,
   "metadata": {},
   "outputs": [],
   "source": [
    "T[0,2,1] #corresponds to the 1st level, 3rd row and 2nd column of T"
   ]
  },
  {
   "cell_type": "code",
   "execution_count": null,
   "metadata": {},
   "outputs": [],
   "source": [
    "T[1,2,1]"
   ]
  },
  {
   "cell_type": "code",
   "execution_count": null,
   "metadata": {},
   "outputs": [],
   "source": [
    "T[0,:,:] #extracts the 1st level"
   ]
  },
  {
   "cell_type": "code",
   "execution_count": null,
   "metadata": {},
   "outputs": [],
   "source": [
    "T[:,1,:] #extracts the 2nd row at both levels"
   ]
  },
  {
   "cell_type": "code",
   "execution_count": null,
   "metadata": {},
   "outputs": [],
   "source": [
    "T[1,:,1] #extracts the 2nd column at the 2nd level"
   ]
  },
  {
   "cell_type": "markdown",
   "metadata": {},
   "source": [
    "Let's try some of these for a 5D tensor"
   ]
  },
  {
   "cell_type": "code",
   "execution_count": null,
   "metadata": {},
   "outputs": [],
   "source": [
    "U = tensor(range(1,33)).reshape(2,2,2,2,2)\n",
    "print(\"Shape of U : {}\".format(U.shape))"
   ]
  },
  {
   "cell_type": "code",
   "execution_count": null,
   "metadata": {},
   "outputs": [],
   "source": [
    "U[0,:,:,:,:]"
   ]
  },
  {
   "cell_type": "code",
   "execution_count": null,
   "metadata": {},
   "outputs": [],
   "source": [
    "U[:,:,1,:,:]"
   ]
  },
  {
   "cell_type": "code",
   "execution_count": null,
   "metadata": {},
   "outputs": [],
   "source": [
    "U[:,:,1,0,0]"
   ]
  },
  {
   "cell_type": "markdown",
   "metadata": {},
   "source": [
    "### Linear Combinations of Tensors"
   ]
  },
  {
   "cell_type": "code",
   "execution_count": null,
   "metadata": {},
   "outputs": [],
   "source": [
    "T = tensor(range(1,25)).reshape(2,3,4)\n",
    "U = tensor(range(26,50)).reshape(2,3,4)\n",
    "\n",
    "#element-wise addition\n",
    "\n",
    "print(\"T+U = {}\".format(T+U))"
   ]
  },
  {
   "cell_type": "code",
   "execution_count": null,
   "metadata": {},
   "outputs": [],
   "source": [
    "#scalar multiplication\n",
    "\n",
    "print(\"5T = {}\".format(5*T))\n",
    "print(\"-T = {}\".format(-1*T))"
   ]
  },
  {
   "cell_type": "code",
   "execution_count": null,
   "metadata": {},
   "outputs": [],
   "source": [
    "print(\"4T-2U = {}\".format(4*T-2*U))"
   ]
  },
  {
   "cell_type": "markdown",
   "metadata": {},
   "source": [
    "### Element-wise Product"
   ]
  },
  {
   "cell_type": "code",
   "execution_count": null,
   "metadata": {},
   "outputs": [],
   "source": [
    "torch.mul(T,T)\n"
   ]
  },
  {
   "cell_type": "markdown",
   "metadata": {},
   "source": [
    "### Matricization of a Tensor"
   ]
  },
  {
   "cell_type": "code",
   "execution_count": null,
   "metadata": {},
   "outputs": [],
   "source": [
    "#fibers of a 3D tensor\n",
    "\n",
    "def fibers(tens,mode):\n",
    "    I,J,K = tens.shape[0],tens.shape[1],tens.shape[2]\n",
    "    \n",
    "    res = []\n",
    "    \n",
    "    if mode == 1:\n",
    "        for j in range(J):\n",
    "            for k in range(K):\n",
    "                res.append(list(tens[:,j,k].numpy()))\n",
    "                \n",
    "    if mode == 2:\n",
    "        for i in range(I):\n",
    "            for k in range(K):\n",
    "                res.append(list(tens[i,:,k].numpy()))\n",
    "                \n",
    "    if mode == 3:\n",
    "        for i in range(I):\n",
    "            for j in range(J):\n",
    "                res.append(list(tens[i,j,:].numpy()))\n",
    "\n",
    "    return res\n",
    "                \n",
    "    "
   ]
  },
  {
   "cell_type": "code",
   "execution_count": null,
   "metadata": {},
   "outputs": [],
   "source": [
    "T"
   ]
  },
  {
   "cell_type": "code",
   "execution_count": null,
   "metadata": {},
   "outputs": [],
   "source": [
    "fibers(T,1)"
   ]
  },
  {
   "cell_type": "code",
   "execution_count": null,
   "metadata": {},
   "outputs": [],
   "source": [
    "fibers(T,2)"
   ]
  },
  {
   "cell_type": "code",
   "execution_count": null,
   "metadata": {},
   "outputs": [],
   "source": [
    "fibers(T,3)\n"
   ]
  },
  {
   "cell_type": "code",
   "execution_count": null,
   "metadata": {},
   "outputs": [],
   "source": [
    "#mode-n matricization of a 3D tensor\n",
    "\n",
    "def matricization(tens,mode):\n",
    "    \n",
    "    f = fibers(tens,mode)\n",
    "    \n",
    "    X = np.array(f).reshape(len(f),len(f[0])).transpose()\n",
    "    \n",
    "    return X\n",
    "    "
   ]
  },
  {
   "cell_type": "code",
   "execution_count": null,
   "metadata": {},
   "outputs": [],
   "source": [
    "matricization(T,1)"
   ]
  },
  {
   "cell_type": "code",
   "execution_count": null,
   "metadata": {},
   "outputs": [],
   "source": [
    "matricization(T,2)"
   ]
  },
  {
   "cell_type": "code",
   "execution_count": null,
   "metadata": {},
   "outputs": [],
   "source": [
    "matricization(T,3)"
   ]
  },
  {
   "cell_type": "code",
   "execution_count": null,
   "metadata": {},
   "outputs": [],
   "source": [
    "#tensorly package for performing matricization\n",
    "print(\"0-mode matricization :\\n {} \\n\".format(tl.base.unfold(T.numpy(),0)))\n",
    "print(\"1-mode matricization :\\n {} \\n\".format(tl.base.unfold(T.numpy(),1)))\n",
    "print(\"2-mode matricization :\\n {} \\n\".format(tl.base.unfold(T.numpy(),2)))"
   ]
  },
  {
   "cell_type": "markdown",
   "metadata": {},
   "source": [
    "### Tensor Multiplication : the n-mode product"
   ]
  },
  {
   "cell_type": "code",
   "execution_count": null,
   "metadata": {},
   "outputs": [],
   "source": [
    "np.random.seed(33)\n",
    "U = np.random.normal(size=8).reshape(4,2)\n",
    "np.around(tl.tenalg.mode_dot(T.numpy(),U,mode=0),3)"
   ]
  },
  {
   "cell_type": "markdown",
   "metadata": {},
   "source": [
    "### Tensor Product"
   ]
  },
  {
   "cell_type": "code",
   "execution_count": null,
   "metadata": {},
   "outputs": [],
   "source": [
    "X,Y = Array([1,2]),Array([3,4])\n",
    "print(\"X={}\".format(X))\n",
    "print(\"Y={}\".format(Y))\n",
    "\n"
   ]
  },
  {
   "cell_type": "code",
   "execution_count": null,
   "metadata": {},
   "outputs": [],
   "source": [
    "Z = tensorproduct(X,Y)\n",
    "print(\"tensor product of X and Y is Z = {}\".format(Z))\n",
    "print(\"Shape of Z : {}\".format(Z.shape))"
   ]
  },
  {
   "cell_type": "code",
   "execution_count": null,
   "metadata": {},
   "outputs": [],
   "source": [
    "T = Array(range(1,25)).reshape(2,3,4)\n",
    "U = Array(range(26,50)).reshape(2,2,6)\n",
    "\n",
    "Z = tensorproduct(T,U)\n",
    "print(\"Shape of Z : {}\".format(Z.shape))"
   ]
  },
  {
   "cell_type": "code",
   "execution_count": null,
   "metadata": {},
   "outputs": [],
   "source": []
  }
 ],
 "metadata": {
  "kernelspec": {
   "display_name": "Python 3",
   "language": "python",
   "name": "python3"
  },
  "language_info": {
   "codemirror_mode": {
    "name": "ipython",
    "version": 3
   },
   "file_extension": ".py",
   "mimetype": "text/x-python",
   "name": "python",
   "nbconvert_exporter": "python",
   "pygments_lexer": "ipython3",
   "version": "3.6.5"
  }
 },
 "nbformat": 4,
 "nbformat_minor": 2
}
