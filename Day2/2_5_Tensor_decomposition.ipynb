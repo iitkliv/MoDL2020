{
 "cells": [
  {
   "cell_type": "markdown",
   "metadata": {},
   "source": [
    "# MoDL 2020\n",
    "# Tensor Decompositions"
   ]
  },
  {
   "cell_type": "code",
   "execution_count": 1,
   "metadata": {},
   "outputs": [
    {
     "name": "stderr",
     "output_type": "stream",
     "text": [
      "Using numpy backend.\n"
     ]
    }
   ],
   "source": [
    "import numpy as np\n",
    "import torch\n",
    "from torch import tensor\n",
    "import tensorly as tl"
   ]
  },
  {
   "cell_type": "markdown",
   "metadata": {},
   "source": [
    "### SIngular Value Decomposition of Matrices"
   ]
  },
  {
   "cell_type": "code",
   "execution_count": 13,
   "metadata": {},
   "outputs": [
    {
     "name": "stdout",
     "output_type": "stream",
     "text": [
      "U = \n",
      " [[-0.29138844  0.94917399  0.05347178 -0.07484443]\n",
      " [ 0.52654931  0.06905377  0.50942166 -0.66065109]\n",
      " [-0.21559343 -0.13960283  0.09503138  0.10160935]\n",
      " [-0.76705603 -0.27342376  0.24443866 -0.49293439]\n",
      " [-0.05461791 -0.00712802  0.81783196  0.55193267]] \n",
      "\n",
      "Singular values : [3.32173961 2.21104604 1.98390941 0.41060727] \n",
      "\n",
      "V = \n",
      " [[ 0.01929839 -0.10121144  0.39258143  0.91392759]\n",
      " [-0.13245706 -0.83865241 -0.51209803  0.1298956 ]\n",
      " [-0.46301086  0.51450218 -0.6365405   0.34018325]\n",
      " [-0.87618699 -0.14732915  0.42243534 -0.17927314]] \n",
      "\n"
     ]
    }
   ],
   "source": [
    "np.random.seed(33)\n",
    "m, n = 5,4\n",
    "A = np.random.normal(size=m*n).reshape(m,n)\n",
    "svd = tl.partial_svd(A,np.min([m,n]))\n",
    "\n",
    "print(\"U = \\n {} \\n\".format(svd[0]))\n",
    "print(\"Singular values : {} \\n\".format(svd[1]))\n",
    "print(\"V = \\n {} \\n\".format(svd[2]))\n",
    "      \n",
    "#svd decomposes a matrix into a sum of rank-1 matrices\n",
    "      "
   ]
  },
  {
   "cell_type": "markdown",
   "metadata": {},
   "source": [
    "### CP Decomposition of Tensors"
   ]
  },
  {
   "cell_type": "code",
   "execution_count": 30,
   "metadata": {},
   "outputs": [
    {
     "data": {
      "text/plain": [
       "array([[[-0.32, -1.6 , -1.54, -0.57],\n",
       "        [-0.22,  0.25, -0.15,  2.01],\n",
       "        [-0.1 ,  0.42, -0.23, -0.64]],\n",
       "\n",
       "       [[-0.02,  1.04, -1.08, -2.21],\n",
       "        [-0.95,  0.83, -1.  ,  0.34],\n",
       "        [ 1.55,  0.69, -2.05,  0.33]]])"
      ]
     },
     "execution_count": 30,
     "metadata": {},
     "output_type": "execute_result"
    }
   ],
   "source": [
    "np.random.seed(33)\n",
    "T = np.around(np.random.normal(size=24).reshape(2,3,4),2)\n",
    "T\n",
    "\n",
    "#CP decomposition is the higher dimensional analogue of SVD"
   ]
  },
  {
   "cell_type": "code",
   "execution_count": 46,
   "metadata": {},
   "outputs": [
    {
     "name": "stdout",
     "output_type": "stream",
     "text": [
      "A = \n",
      " [[-1.27 -0.66  0.56 -0.44  0.05 -0.  ]\n",
      " [-3.06 -2.29 -0.49 -0.7   0.04  0.93]] \n",
      "\n",
      "B = \n",
      " [[-7.10e-01  1.10e-01 -2.49e+00  6.20e-01 -9.79e+00  3.00e-02]\n",
      " [-2.00e-02 -8.00e-02 -1.17e+00 -6.00e-02  2.37e+01 -1.89e+00]\n",
      " [-5.70e-01 -9.60e-01  5.90e-01  3.50e-01 -2.60e+00  1.20e+00]] \n",
      "\n",
      "C = \n",
      " [[  1.94  -0.04  -0.21   9.76  -0.57   0.46]\n",
      " [  0.29   0.2    0.91   0.87   0.71   0.26]\n",
      " [ -3.66   0.16   1.07 -13.67   0.87   0.95]\n",
      " [  0.22   0.11  -0.56   3.35   1.36   0.46]] \n",
      "\n"
     ]
    }
   ],
   "source": [
    "I,J,K  = T.shape[0],T.shape[1],T.shape[2]\n",
    "\n",
    "cp = tl.decomposition.parafac(T,np.min([I*J,I*K,J*K]))\n",
    "\n",
    "print(\"A = \\n {} \\n\".format(np.around(cp[0],2)))\n",
    "print(\"B = \\n {} \\n\".format(np.around(cp[1],2)))\n",
    "print(\"C = \\n {} \\n\".format(np.around(cp[2],2)))"
   ]
  },
  {
   "cell_type": "markdown",
   "metadata": {},
   "source": [
    "### Tucker Decomposition of Tensors"
   ]
  },
  {
   "cell_type": "code",
   "execution_count": 50,
   "metadata": {},
   "outputs": [
    {
     "name": "stdout",
     "output_type": "stream",
     "text": [
      "Core G = \n",
      " [[[-3.1  -0.29  0.07 -0.12]\n",
      "  [-0.26 -2.27  0.52 -0.36]\n",
      "  [ 0.35  0.35  0.11 -1.58]]\n",
      "\n",
      " [[-0.19 -0.07 -1.88 -0.36]\n",
      "  [ 0.85  0.12  0.78 -0.24]\n",
      "  [ 1.14 -1.51 -0.62  0.2 ]]] \n",
      "\n",
      "Prinicipal Component A = \n",
      " [[ 0.34  0.94]\n",
      " [ 0.94 -0.34]] \n",
      "\n",
      "Prinicipal Component B = \n",
      " [[-0.93  0.29 -0.24]\n",
      " [-0.   -0.64 -0.76]\n",
      " [-0.38 -0.71  0.6 ]] \n",
      "\n",
      "Prinicipal Component C = \n",
      " [[ 0.14  0.29 -0.11 -0.94]\n",
      " [ 0.18  0.17 -0.95  0.2 ]\n",
      " [-0.64 -0.66 -0.29 -0.26]\n",
      " [-0.73  0.67  0.    0.1 ]] \n",
      "\n"
     ]
    }
   ],
   "source": [
    "tk = tl.decomposition.tucker(T)\n",
    "\n",
    "print(\"Core G = \\n {} \\n\".format(np.around(tk[0],2)))\n",
    "print(\"Prinicipal Component A = \\n {} \\n\".format(np.around(tk[1][0],2)))\n",
    "print(\"Prinicipal Component B = \\n {} \\n\".format(np.around(tk[1][1],2)))\n",
    "print(\"Prinicipal Component C = \\n {} \\n\".format(np.around(tk[1][2],2)))\n",
    "\n",
    "#Tucker decomposition is the higher dimensional equivalent of PCA"
   ]
  },
  {
   "cell_type": "code",
   "execution_count": null,
   "metadata": {},
   "outputs": [],
   "source": []
  },
  {
   "cell_type": "code",
   "execution_count": null,
   "metadata": {},
   "outputs": [],
   "source": []
  }
 ],
 "metadata": {
  "kernelspec": {
   "display_name": "Python 3",
   "language": "python",
   "name": "python3"
  },
  "language_info": {
   "codemirror_mode": {
    "name": "ipython",
    "version": 3
   },
   "file_extension": ".py",
   "mimetype": "text/x-python",
   "name": "python",
   "nbconvert_exporter": "python",
   "pygments_lexer": "ipython3",
   "version": "3.6.5"
  }
 },
 "nbformat": 4,
 "nbformat_minor": 4
}
